{
 "cells": [
  {
   "cell_type": "markdown",
   "metadata": {},
   "source": [
    "# Open street map analysis  \n",
    "\n",
    "Here we show scrapping of open street map.\n",
    "\n",
    "Note:\n",
    "place_name should be polygon \n",
    "place_name = \"Uttar Pradesh, India\"\n",
    "\n",
    "For any questions ask osmnx community https://github.com/gboeing/osmnx"
   ]
  },
  {
   "cell_type": "code",
   "execution_count": null,
   "metadata": {},
   "outputs": [],
   "source": [
    "import json # requests for APIs\n",
    "import requests #load Python code that allow us to work with the JSON data format and the HTTP protocol\n",
    "import osmnx as ox\n",
    "import matplotlib.pyplot as plt\n",
    "%matplotlib inline\n",
    "\n",
    "# https://www.digitalocean.com/community/tutorials/how-to-use-web-apis-in-python-3\n",
    "# https://automating-gis-processes.github.io/CSC/notebooks/L3/retrieve_osm_data.html\n",
    "\n",
    "\n",
    "# Specify the name that is used to seach for the data\n",
    "place_name = \"Uttar Pradesh, India\"# Kremlin, Arbat \"Kamppi, Helsinki, Finland\"\n",
    "\n",
    "\n",
    "# Fetch OSM street network from the location\n",
    "graph = ox.graph_from_place(place_name)\n",
    "type(graph)\n",
    "\n",
    "print('loading graph of city')\n",
    "\n",
    "# Plot the streets\n",
    "fig, ax = ox.plot_graph(graph)\n",
    "\n",
    "\n",
    "# Retrieve the footprint of our location\n",
    "area = ox.gdf_from_place(place_name)\n",
    "print('loading places')\n",
    "\n",
    "# Retrieve buildings from the area\n",
    "#buildings = ox.footprints(place_name) #buildings_from_place(place_name)\n",
    "\n",
    "# What types are those? if there is any information about buildings_from_place\n",
    "#print(type(area))\n",
    "#print(type(buildings))\n",
    "\n",
    "# Retrieve restaurants\n",
    "restaurants = ox.pois_from_place(place_name, amenities=['restaurant'])\n",
    "\n",
    "#schools = ox.pois_from_place(place_name, amenities=['school'])\n",
    "\n",
    "\n",
    "# How many schools do we have in this district?\n",
    "print('There are restaurants in this area, number = ')\n",
    "print(len(restaurants))"
   ]
  },
  {
   "cell_type": "markdown",
   "metadata": {},
   "source": [
    "# Show information about amenities "
   ]
  },
  {
   "cell_type": "code",
   "execution_count": null,
   "metadata": {},
   "outputs": [],
   "source": [
    "# Select some useful cols and print about schools\n",
    "\n",
    "cols = ['access', 'contact:email', 'contact:phone', \n",
    "        'addr:housenumber', 'addr:street'] #, 'addr:postcode' 'addr:country',\n",
    "# Print only selected cols\n",
    "restaurants[cols].head(10)\n"
   ]
  }
 ],
 "metadata": {
  "kernelspec": {
   "display_name": "Python 3",
   "language": "python",
   "name": "python3"
  },
  "language_info": {
   "codemirror_mode": {
    "name": "ipython",
    "version": 3
   },
   "file_extension": ".py",
   "mimetype": "text/x-python",
   "name": "python",
   "nbconvert_exporter": "python",
   "pygments_lexer": "ipython3",
   "version": "3.6.7"
  }
 },
 "nbformat": 4,
 "nbformat_minor": 2
}
