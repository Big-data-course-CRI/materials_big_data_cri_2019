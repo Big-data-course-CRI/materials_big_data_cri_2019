{
 "cells": [
  {
   "cell_type": "markdown",
   "metadata": {},
   "source": [
    "# Dynamical networks: dynamics of networks\n",
    "\n",
    "\n",
    "\n",
    "Notebook for the 4th course of Big data CRI (2019). \n",
    "\n",
    "We use several libraries for this course:\n",
    "`networkx`, `matplotlib`.\n",
    "\n",
    "\n",
    "Importantly we will also create new classes and write new functions ourselves."
   ]
  },
  {
   "cell_type": "code",
   "execution_count": 1,
   "metadata": {},
   "outputs": [],
   "source": [
    "from collections import Counter\n",
    "from pprint import pprint\n",
    "\n",
    "import numpy as np\n",
    "import matplotlib.pyplot as plt \n",
    "from matplotlib.colors import LinearSegmentedColormap\n",
    "\n",
    "#import watermark\n"
   ]
  },
  {
   "cell_type": "markdown",
   "metadata": {},
   "source": [
    "\n",
    "Let us start with simple network on which we consider some processes.\n",
    "We start with Erdos-Renyi graph."
   ]
  },
  {
   "cell_type": "code",
   "execution_count": 25,
   "metadata": {},
   "outputs": [],
   "source": [
    "#create new class Graph \n",
    "\n",
    "class Graph:\n",
    "    def __init__(self, directed=False):\n",
    "        self._nodes = {}\n",
    "        self._edges = {}\n",
    "        self._directed = directed\n",
    "\n",
    "#adding methods to this class\n",
    "\n",
    "def add_method(cls):\n",
    "    def decorator(func):\n",
    "        setattr(cls, func.__name__, func)\n",
    "        return func\n",
    "    return decorator\n",
    "\n",
    "@add_method(Graph)\n",
    "def add_node(self, node, **kwargs):\n",
    "    self._nodes[node] = kwargs    \n",
    "    \n",
    "@add_method(Graph)\n",
    "def add_nodes_from(self, nodes, **kwargs):\n",
    "    for node in nodes:\n",
    "        if isinstance(node, tuple):\n",
    "            self._nodes[node[0]] = node[1:]\n",
    "        else:\n",
    "            self._nodes[node] = kwargs    \n",
    "        \n",
    "@add_method(Graph)\n",
    "def nodes(self):\n",
    "    return list(self._nodes.keys())        \n",
    "\n",
    "\n",
    "\n",
    "@add_method(Graph)\n",
    "def add_edge(self, node_i, node_j, **kwargs):\n",
    "    if node_i not in self._nodes:\n",
    "        self.add_node(node_i)\n",
    "    \n",
    "    if node_j not in self._nodes:\n",
    "        self.add_node(node_j)\n",
    "    \n",
    "    if node_i not in self._edges:\n",
    "        self._edges[node_i] = {}\n",
    "        \n",
    "    if node_j not in self._edges[node_i]:\n",
    "        self._edges[node_i][node_j] = {}\n",
    "        \n",
    "    self._edges[node_i][node_j] = kwargs\n",
    "    \n",
    "    if not self._directed:\n",
    "        if node_j not in self._edges:\n",
    "            self._edges[node_j] = {}\n",
    "\n",
    "        if node_i not in self._edges[node_j]:\n",
    "            self._edges[node_j][node_i] = {}\n",
    "\n",
    "        self._edges[node_j][node_i] = kwargs\n",
    "        \n",
    "        \n",
    "@add_method(Graph)\n",
    "def add_edges_from(self, edges, **kwargs):\n",
    "    for edge in edges:\n",
    "        self.add_edge(*edge, **kwargs)\n",
    "        \n",
    "        \n",
    "@add_method(Graph)\n",
    "def degree_distribution(self, normalize=True):\n",
    "    deg = self.degrees()\n",
    "    dist = Graph._build_distribution(deg, normalize)\n",
    "    \n",
    "    return dist      \n",
    "\n",
    "@add_method(Graph)\n",
    "def degrees(self):\n",
    "    deg = {}\n",
    "    \n",
    "    for node in self._nodes:\n",
    "        if node in self._edges:\n",
    "            deg[node] =  len(self._edges[node])\n",
    "        else:\n",
    "            deg[node] = 0\n",
    "    \n",
    "    return deg\n",
    "\n",
    "\n",
    "@add_method(Graph)\n",
    "def _build_distribution(data, normalize=True):\n",
    "    values = data.values()\n",
    "    dist = list(Counter(values).items())\n",
    "    dist.sort(key=lambda x:x[0])\n",
    "    dist = np.array(dist, dtype='float')\n",
    "           \n",
    "    if normalize:\n",
    "        norm = dist.T[1].sum()\n",
    "        dist.T[1] /= norm\n",
    "    \n",
    "    return dist"
   ]
  },
  {
   "cell_type": "markdown",
   "metadata": {},
   "source": [
    "# Different classes of networks\n",
    "\n",
    "Importantly we can not just call networks from existing classes in ´networkx´ but also create these classes ourselves. Here we show examples from ER and Barabasi-Albert models. \n",
    "\n",
    "# Excercise 1 \n",
    "\n",
    "Write class of network model yourself. Take any existing class in the library networkx.github.io/ "
   ]
  },
  {
   "cell_type": "code",
   "execution_count": 30,
   "metadata": {},
   "outputs": [],
   "source": [
    "#@add_method(Graph) # we can add methods to new class as in https://github.com/Dataforscience/networks\n",
    "\n",
    "\n",
    "@add_method(Graph)\n",
    "def erdos_renyi_graph(N, p):\n",
    "    nodes = list(range(N))\n",
    "    edges = []\n",
    "    \n",
    "    for i in range(N):\n",
    "        for j in range(i+1, N):\n",
    "            if np.random.random() < p:\n",
    "                edges.append((i, j))\n",
    "    \n",
    "    G = Graph()\n",
    "    G.add_nodes_from(nodes)\n",
    "    G.add_edges_from(edges)\n",
    "\n",
    "    return G\n",
    "\n",
    "@add_method(Graph)\n",
    "def barabasi_albert_graph(N):\n",
    "    G = Graph()\n",
    "\n",
    "    nodes = range(N)\n",
    "    G.add_nodes_from(nodes)\n",
    "\n",
    "    edges = [0,1,1,2,2,0]\n",
    "\n",
    "    for node_i in range(3, N):\n",
    "        pos = np.random.randint(len(edges))\n",
    "        node_j = edges[pos]\n",
    "\n",
    "        edges.append(node_i)\n",
    "        edges.append(node_j)\n",
    "\n",
    "    edges = zip(nodes, edges[1::2])\n",
    "\n",
    "    G.add_edges_from(edges)\n",
    "\n",
    "    return G\n"
   ]
  },
  {
   "cell_type": "markdown",
   "metadata": {},
   "source": [
    "# Properties of networks\n",
    "We can now create classes to study properties of networks."
   ]
  },
  {
   "cell_type": "code",
   "execution_count": 29,
   "metadata": {},
   "outputs": [
    {
     "data": {
      "image/png": "[encoded data removed]",
      "text/plain": [
       "<Figure size 792x576 with 1 Axes>"
      ]
     },
     "metadata": {
      "needs_background": "light"
     },
     "output_type": "display_data"
    }
   ],
   "source": [
    "# we first start with looking at degree distributions\n",
    "\n",
    "ER = Graph.erdos_renyi_graph(200, 0.1)\n",
    "Pk = ER.degree_distribution()\n",
    "\n",
    "plt.plot(Pk.T[0], Pk.T[1])\n",
    "plt.xlabel('k')\n",
    "plt.ylabel('P(k)')\n",
    "plt.gcf().set_size_inches(11, 8)\n"
   ]
  },
  {
   "cell_type": "code",
   "execution_count": 32,
   "metadata": {},
   "outputs": [
    {
     "data": {
      "image/png": "[encoded data removed]",
      "text/plain": [
       "<Figure size 792x576 with 1 Axes>"
      ]
     },
     "metadata": {
      "needs_background": "light"
     },
     "output_type": "display_data"
    }
   ],
   "source": [
    "BA = Graph.barabasi_albert_graph(1000)\n",
    "Pk = BA.degree_distribution()\n",
    "\n",
    "plt.loglog(Pk.T[0], Pk.T[1])\n",
    "plt.xlabel('k')\n",
    "plt.ylabel('P(k)')\n",
    "plt.gcf().set_size_inches(11, 8)"
   ]
  },
  {
   "cell_type": "code",
   "execution_count": 34,
   "metadata": {},
   "outputs": [],
   "source": [
    "# in order to use network properties in other notebooks\n",
    "\n",
    "\n",
    "def export_class(path, filename):\n",
    "    import io\n",
    "    from nbformat import read\n",
    "\n",
    "    with io.open(path, 'r', encoding='utf-8') as f:\n",
    "        nb = read(f, 4)\n",
    "\n",
    "    fp = open(filename, \"wt\")\n",
    "\n",
    "    for cell in nb.cells:\n",
    "        if cell.cell_type == 'code':\n",
    "            first_line = cell.source.split('\\n')[0]\n",
    "            \n",
    "            if \"class \" in first_line or \"add_method\" in first_line:\n",
    "                print(cell.source, file=fp)\n",
    "\n",
    "                print(\"\\n\", file=fp)\n",
    "            elif \"import\" in first_line:\n",
    "                for line in cell.source.split('\\n'):\n",
    "                    if not line.startswith(\"%\"):\n",
    "                        print(line.strip(), file=fp)\n",
    "                        \n",
    "                print(\"\\n\", file=fp)\n",
    "\n",
    "    fp.close()\n",
    "    \n",
    "    \n",
    "#we export Graph class to use it in other notebooks # see Love to Jupyter    \n",
    "export_class('dynamical_networks.ipynb', 'Graph.py')    "
   ]
  },
  {
   "cell_type": "code",
   "execution_count": null,
   "metadata": {},
   "outputs": [],
   "source": []
  }
 ],
 "metadata": {
  "kernelspec": {
   "display_name": "Python 3",
   "language": "python",
   "name": "python3"
  },
  "language_info": {
   "codemirror_mode": {
    "name": "ipython",
    "version": 3
   },
   "file_extension": ".py",
   "mimetype": "text/x-python",
   "name": "python",
   "nbconvert_exporter": "python",
   "pygments_lexer": "ipython3",
   "version": "3.6.7"
  }
 },
 "nbformat": 4,
 "nbformat_minor": 2
}
